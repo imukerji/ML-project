{
  "nbformat": 4,
  "nbformat_minor": 0,
  "metadata": {
    "colab": {
      "provenance": []
    },
    "kernelspec": {
      "name": "python3",
      "display_name": "Python 3"
    },
    "language_info": {
      "name": "python"
    }
  },
  "cells": [
    {
      "cell_type": "markdown",
      "source": [
        "Startup Valuation Dataset: https://www.kaggle.com/datasets/manishkc06/startup-success-prediction\n"
      ],
      "metadata": {
        "id": "Tv8j9YkxMgf1"
      }
    },
    {
      "cell_type": "code",
      "execution_count": null,
      "metadata": {
        "id": "OH-U_6Wrzc45"
      },
      "outputs": [],
      "source": [
        "# import relevant Python libraries\n",
        "import numpy as np\n",
        "import pandas as pd\n",
        "from scipy import stats as sps\n",
        "from sklearn.preprocessing import StandardScaler, OneHotEncoder\n",
        "from sklearn.compose import ColumnTransformer\n",
        "from sklearn.model_selection import train_test_split\n",
        "from sklearn.linear_model import LogisticRegression\n",
        "from sklearn.metrics import accuracy_score\n",
        "from sklearn.decomposition import PCA\n",
        "import matplotlib.pyplot as plt\n",
        "from sklearn.impute import SimpleImputer\n",
        "from sklearn.svm import SVC\n",
        "from sklearn.linear_model import Lasso\n",
        "from sklearn.model_selection import train_test_split, cross_val_score\n",
        "from sklearn.metrics import f1_score, confusion_matrix\n"
      ]
    },
    {
      "cell_type": "code",
      "source": [
        "df = pd.read_csv(\"startup data.csv\")\n",
        "pd.DataFrame.head(df)"
      ],
      "metadata": {
        "id": "zi3FV9XN0wd9",
        "colab": {
          "base_uri": "https://localhost:8080/",
          "height": 421
        },
        "outputId": "be380ec2-8559-42a0-e05b-fb17c12b788b"
      },
      "execution_count": null,
      "outputs": [
        {
          "output_type": "execute_result",
          "data": {
            "text/plain": [
              "   Unnamed: 0 state_code   latitude   longitude zip_code       id  \\\n",
              "0        1005         CA  42.358880  -71.056820    92101   c:6669   \n",
              "1         204         CA  37.238916 -121.973718    95032  c:16283   \n",
              "2        1001         CA  32.901049 -117.192656    92121  c:65620   \n",
              "3         738         CA  37.320309 -122.050040    95014  c:42668   \n",
              "4        1002         CA  37.779281 -122.419236    94105  c:65806   \n",
              "\n",
              "            city              Unnamed: 6               name  labels  ...  \\\n",
              "0      San Diego                     NaN        Bandsintown       1  ...   \n",
              "1      Los Gatos                     NaN          TriCipher       1  ...   \n",
              "2      San Diego      San Diego CA 92121              Plixi       1  ...   \n",
              "3      Cupertino      Cupertino CA 95014  Solidcore Systems       1  ...   \n",
              "4  San Francisco  San Francisco CA 94105     Inhale Digital       0  ...   \n",
              "\n",
              "  object_id has_VC has_angel has_roundA  has_roundB  has_roundC  has_roundD  \\\n",
              "0    c:6669      0         1          0           0           0           0   \n",
              "1   c:16283      1         0          0           1           1           1   \n",
              "2   c:65620      0         0          1           0           0           0   \n",
              "3   c:42668      0         0          0           1           1           1   \n",
              "4   c:65806      1         1          0           0           0           0   \n",
              "\n",
              "   avg_participants  is_top500    status  \n",
              "0            1.0000          0  acquired  \n",
              "1            4.7500          1  acquired  \n",
              "2            4.0000          1  acquired  \n",
              "3            3.3333          1  acquired  \n",
              "4            1.0000          1    closed  \n",
              "\n",
              "[5 rows x 49 columns]"
            ],
            "text/html": [
              "\n",
              "  <div id=\"df-2e36a3bf-7c4c-44ba-bb2d-f802ed48b4c7\">\n",
              "    <div class=\"colab-df-container\">\n",
              "      <div>\n",
              "<style scoped>\n",
              "    .dataframe tbody tr th:only-of-type {\n",
              "        vertical-align: middle;\n",
              "    }\n",
              "\n",
              "    .dataframe tbody tr th {\n",
              "        vertical-align: top;\n",
              "    }\n",
              "\n",
              "    .dataframe thead th {\n",
              "        text-align: right;\n",
              "    }\n",
              "</style>\n",
              "<table border=\"1\" class=\"dataframe\">\n",
              "  <thead>\n",
              "    <tr style=\"text-align: right;\">\n",
              "      <th></th>\n",
              "      <th>Unnamed: 0</th>\n",
              "      <th>state_code</th>\n",
              "      <th>latitude</th>\n",
              "      <th>longitude</th>\n",
              "      <th>zip_code</th>\n",
              "      <th>id</th>\n",
              "      <th>city</th>\n",
              "      <th>Unnamed: 6</th>\n",
              "      <th>name</th>\n",
              "      <th>labels</th>\n",
              "      <th>...</th>\n",
              "      <th>object_id</th>\n",
              "      <th>has_VC</th>\n",
              "      <th>has_angel</th>\n",
              "      <th>has_roundA</th>\n",
              "      <th>has_roundB</th>\n",
              "      <th>has_roundC</th>\n",
              "      <th>has_roundD</th>\n",
              "      <th>avg_participants</th>\n",
              "      <th>is_top500</th>\n",
              "      <th>status</th>\n",
              "    </tr>\n",
              "  </thead>\n",
              "  <tbody>\n",
              "    <tr>\n",
              "      <th>0</th>\n",
              "      <td>1005</td>\n",
              "      <td>CA</td>\n",
              "      <td>42.358880</td>\n",
              "      <td>-71.056820</td>\n",
              "      <td>92101</td>\n",
              "      <td>c:6669</td>\n",
              "      <td>San Diego</td>\n",
              "      <td>NaN</td>\n",
              "      <td>Bandsintown</td>\n",
              "      <td>1</td>\n",
              "      <td>...</td>\n",
              "      <td>c:6669</td>\n",
              "      <td>0</td>\n",
              "      <td>1</td>\n",
              "      <td>0</td>\n",
              "      <td>0</td>\n",
              "      <td>0</td>\n",
              "      <td>0</td>\n",
              "      <td>1.0000</td>\n",
              "      <td>0</td>\n",
              "      <td>acquired</td>\n",
              "    </tr>\n",
              "    <tr>\n",
              "      <th>1</th>\n",
              "      <td>204</td>\n",
              "      <td>CA</td>\n",
              "      <td>37.238916</td>\n",
              "      <td>-121.973718</td>\n",
              "      <td>95032</td>\n",
              "      <td>c:16283</td>\n",
              "      <td>Los Gatos</td>\n",
              "      <td>NaN</td>\n",
              "      <td>TriCipher</td>\n",
              "      <td>1</td>\n",
              "      <td>...</td>\n",
              "      <td>c:16283</td>\n",
              "      <td>1</td>\n",
              "      <td>0</td>\n",
              "      <td>0</td>\n",
              "      <td>1</td>\n",
              "      <td>1</td>\n",
              "      <td>1</td>\n",
              "      <td>4.7500</td>\n",
              "      <td>1</td>\n",
              "      <td>acquired</td>\n",
              "    </tr>\n",
              "    <tr>\n",
              "      <th>2</th>\n",
              "      <td>1001</td>\n",
              "      <td>CA</td>\n",
              "      <td>32.901049</td>\n",
              "      <td>-117.192656</td>\n",
              "      <td>92121</td>\n",
              "      <td>c:65620</td>\n",
              "      <td>San Diego</td>\n",
              "      <td>San Diego CA 92121</td>\n",
              "      <td>Plixi</td>\n",
              "      <td>1</td>\n",
              "      <td>...</td>\n",
              "      <td>c:65620</td>\n",
              "      <td>0</td>\n",
              "      <td>0</td>\n",
              "      <td>1</td>\n",
              "      <td>0</td>\n",
              "      <td>0</td>\n",
              "      <td>0</td>\n",
              "      <td>4.0000</td>\n",
              "      <td>1</td>\n",
              "      <td>acquired</td>\n",
              "    </tr>\n",
              "    <tr>\n",
              "      <th>3</th>\n",
              "      <td>738</td>\n",
              "      <td>CA</td>\n",
              "      <td>37.320309</td>\n",
              "      <td>-122.050040</td>\n",
              "      <td>95014</td>\n",
              "      <td>c:42668</td>\n",
              "      <td>Cupertino</td>\n",
              "      <td>Cupertino CA 95014</td>\n",
              "      <td>Solidcore Systems</td>\n",
              "      <td>1</td>\n",
              "      <td>...</td>\n",
              "      <td>c:42668</td>\n",
              "      <td>0</td>\n",
              "      <td>0</td>\n",
              "      <td>0</td>\n",
              "      <td>1</td>\n",
              "      <td>1</td>\n",
              "      <td>1</td>\n",
              "      <td>3.3333</td>\n",
              "      <td>1</td>\n",
              "      <td>acquired</td>\n",
              "    </tr>\n",
              "    <tr>\n",
              "      <th>4</th>\n",
              "      <td>1002</td>\n",
              "      <td>CA</td>\n",
              "      <td>37.779281</td>\n",
              "      <td>-122.419236</td>\n",
              "      <td>94105</td>\n",
              "      <td>c:65806</td>\n",
              "      <td>San Francisco</td>\n",
              "      <td>San Francisco CA 94105</td>\n",
              "      <td>Inhale Digital</td>\n",
              "      <td>0</td>\n",
              "      <td>...</td>\n",
              "      <td>c:65806</td>\n",
              "      <td>1</td>\n",
              "      <td>1</td>\n",
              "      <td>0</td>\n",
              "      <td>0</td>\n",
              "      <td>0</td>\n",
              "      <td>0</td>\n",
              "      <td>1.0000</td>\n",
              "      <td>1</td>\n",
              "      <td>closed</td>\n",
              "    </tr>\n",
              "  </tbody>\n",
              "</table>\n",
              "<p>5 rows × 49 columns</p>\n",
              "</div>\n",
              "      <button class=\"colab-df-convert\" onclick=\"convertToInteractive('df-2e36a3bf-7c4c-44ba-bb2d-f802ed48b4c7')\"\n",
              "              title=\"Convert this dataframe to an interactive table.\"\n",
              "              style=\"display:none;\">\n",
              "        \n",
              "  <svg xmlns=\"http://www.w3.org/2000/svg\" height=\"24px\"viewBox=\"0 0 24 24\"\n",
              "       width=\"24px\">\n",
              "    <path d=\"M0 0h24v24H0V0z\" fill=\"none\"/>\n",
              "    <path d=\"M18.56 5.44l.94 2.06.94-2.06 2.06-.94-2.06-.94-.94-2.06-.94 2.06-2.06.94zm-11 1L8.5 8.5l.94-2.06 2.06-.94-2.06-.94L8.5 2.5l-.94 2.06-2.06.94zm10 10l.94 2.06.94-2.06 2.06-.94-2.06-.94-.94-2.06-.94 2.06-2.06.94z\"/><path d=\"M17.41 7.96l-1.37-1.37c-.4-.4-.92-.59-1.43-.59-.52 0-1.04.2-1.43.59L10.3 9.45l-7.72 7.72c-.78.78-.78 2.05 0 2.83L4 21.41c.39.39.9.59 1.41.59.51 0 1.02-.2 1.41-.59l7.78-7.78 2.81-2.81c.8-.78.8-2.07 0-2.86zM5.41 20L4 18.59l7.72-7.72 1.47 1.35L5.41 20z\"/>\n",
              "  </svg>\n",
              "      </button>\n",
              "      \n",
              "  <style>\n",
              "    .colab-df-container {\n",
              "      display:flex;\n",
              "      flex-wrap:wrap;\n",
              "      gap: 12px;\n",
              "    }\n",
              "\n",
              "    .colab-df-convert {\n",
              "      background-color: #E8F0FE;\n",
              "      border: none;\n",
              "      border-radius: 50%;\n",
              "      cursor: pointer;\n",
              "      display: none;\n",
              "      fill: #1967D2;\n",
              "      height: 32px;\n",
              "      padding: 0 0 0 0;\n",
              "      width: 32px;\n",
              "    }\n",
              "\n",
              "    .colab-df-convert:hover {\n",
              "      background-color: #E2EBFA;\n",
              "      box-shadow: 0px 1px 2px rgba(60, 64, 67, 0.3), 0px 1px 3px 1px rgba(60, 64, 67, 0.15);\n",
              "      fill: #174EA6;\n",
              "    }\n",
              "\n",
              "    [theme=dark] .colab-df-convert {\n",
              "      background-color: #3B4455;\n",
              "      fill: #D2E3FC;\n",
              "    }\n",
              "\n",
              "    [theme=dark] .colab-df-convert:hover {\n",
              "      background-color: #434B5C;\n",
              "      box-shadow: 0px 1px 3px 1px rgba(0, 0, 0, 0.15);\n",
              "      filter: drop-shadow(0px 1px 2px rgba(0, 0, 0, 0.3));\n",
              "      fill: #FFFFFF;\n",
              "    }\n",
              "  </style>\n",
              "\n",
              "      <script>\n",
              "        const buttonEl =\n",
              "          document.querySelector('#df-2e36a3bf-7c4c-44ba-bb2d-f802ed48b4c7 button.colab-df-convert');\n",
              "        buttonEl.style.display =\n",
              "          google.colab.kernel.accessAllowed ? 'block' : 'none';\n",
              "\n",
              "        async function convertToInteractive(key) {\n",
              "          const element = document.querySelector('#df-2e36a3bf-7c4c-44ba-bb2d-f802ed48b4c7');\n",
              "          const dataTable =\n",
              "            await google.colab.kernel.invokeFunction('convertToInteractive',\n",
              "                                                     [key], {});\n",
              "          if (!dataTable) return;\n",
              "\n",
              "          const docLinkHtml = 'Like what you see? Visit the ' +\n",
              "            '<a target=\"_blank\" href=https://colab.research.google.com/notebooks/data_table.ipynb>data table notebook</a>'\n",
              "            + ' to learn more about interactive tables.';\n",
              "          element.innerHTML = '';\n",
              "          dataTable['output_type'] = 'display_data';\n",
              "          await google.colab.output.renderOutput(dataTable, element);\n",
              "          const docLink = document.createElement('div');\n",
              "          docLink.innerHTML = docLinkHtml;\n",
              "          element.appendChild(docLink);\n",
              "        }\n",
              "      </script>\n",
              "    </div>\n",
              "  </div>\n",
              "  "
            ]
          },
          "metadata": {},
          "execution_count": 3
        }
      ]
    },
    {
      "cell_type": "markdown",
      "source": [
        "# Brief exploration of the dataset \n",
        "The dataset has a total of 923 samples, and 48 features with the dependent feature being the startup status. There are certain columns that have duplicate data: these are the features that are presented as categorical but are also one hot encoded as well right after. This can be seen specficially with the state_code columns being broken down into one-hot encoded columns such as is_CA, is_NY, etc. There are also features that are categorical and not one-hot encoded such as status. This indicates that theres a need duplicate feature removal and one-hot encoding as part of pre-processing."
      ],
      "metadata": {
        "id": "q624g7FfgLJG"
      }
    },
    {
      "cell_type": "code",
      "source": [
        "print('number of features:', len(df.columns))\n",
        "print('number of samples:', len(df))"
      ],
      "metadata": {
        "colab": {
          "base_uri": "https://localhost:8080/"
        },
        "id": "hVBYJsH5qb3j",
        "outputId": "656132e3-b6ed-4a6c-903c-c208a74e0775"
      },
      "execution_count": null,
      "outputs": [
        {
          "output_type": "stream",
          "name": "stdout",
          "text": [
            "number of features: 49\n",
            "number of samples: 923\n"
          ]
        }
      ]
    },
    {
      "cell_type": "markdown",
      "source": [
        "#Pre-processing of the data\n",
        "Here I got rid of repetitive columns and I got rid of features that I felt were irrelevant to determining the success of a startup such as Longitude and Latitude. I also changed the values of the status feature which stores the value of if a startup has been \"acquired\" or \"closed\" to represent 1 and 0 respectively since we cannot have string values."
      ],
      "metadata": {
        "id": "hU3jJoCgftFV"
      }
    },
    {
      "cell_type": "code",
      "source": [
        "df.drop(columns=['id', 'founded_at', 'category_code', 'closed_at', 'first_funding_at','state_code', 'last_funding_at', 'state_code', 'name', 'city', 'age_first_funding_year', 'milestones', 'state_code.1', 'age_last_milestone_year','labels','age_first_milestone_year','relationships', 'age_last_funding_year', 'Unnamed: 0', 'latitude', 'longitude', 'zip_code', 'Unnamed: 6', 'object_id'], inplace=True)\n",
        "df[\"status\"] = df[\"status\"].map({\"acquired\": 0, \"closed\": 1})\n",
        "print(df)\n"
      ],
      "metadata": {
        "id": "qYvUVznm8Ohx",
        "colab": {
          "base_uri": "https://localhost:8080/"
        },
        "outputId": "cd4e63d6-f20b-4f48-ce04-073f8f6c9ad0"
      },
      "execution_count": null,
      "outputs": [
        {
          "output_type": "stream",
          "name": "stdout",
          "text": [
            "     funding_rounds  funding_total_usd  is_CA  is_NY  is_MA  is_TX  \\\n",
            "0                 3             375000      1      0      0      0   \n",
            "1                 4           40100000      1      0      0      0   \n",
            "2                 1            2600000      1      0      0      0   \n",
            "3                 3           40000000      1      0      0      0   \n",
            "4                 2            1300000      1      0      0      0   \n",
            "..              ...                ...    ...    ...    ...    ...   \n",
            "918               1            1100000      1      0      0      0   \n",
            "919               3           52000000      0      0      1      0   \n",
            "920               1           44000000      1      0      0      0   \n",
            "921               2           15500000      1      0      0      0   \n",
            "922               1           20000000      1      0      0      0   \n",
            "\n",
            "     is_otherstate  is_software  is_web  is_mobile  ...  is_othercategory  \\\n",
            "0                0            0       0          0  ...                 1   \n",
            "1                0            0       0          0  ...                 0   \n",
            "2                0            0       1          0  ...                 0   \n",
            "3                0            1       0          0  ...                 0   \n",
            "4                0            0       0          0  ...                 0   \n",
            "..             ...          ...     ...        ...  ...               ...   \n",
            "918              0            0       0          0  ...                 0   \n",
            "919              0            0       0          0  ...                 1   \n",
            "920              0            0       0          0  ...                 0   \n",
            "921              0            1       0          0  ...                 0   \n",
            "922              0            0       0          0  ...                 1   \n",
            "\n",
            "     has_VC  has_angel  has_roundA  has_roundB  has_roundC  has_roundD  \\\n",
            "0         0          1           0           0           0           0   \n",
            "1         1          0           0           1           1           1   \n",
            "2         0          0           1           0           0           0   \n",
            "3         0          0           0           1           1           1   \n",
            "4         1          1           0           0           0           0   \n",
            "..      ...        ...         ...         ...         ...         ...   \n",
            "918       0          0           1           0           0           0   \n",
            "919       1          0           0           1           0           0   \n",
            "920       0          0           0           0           0           1   \n",
            "921       0          0           1           1           0           0   \n",
            "922       0          0           0           1           0           0   \n",
            "\n",
            "     avg_participants  is_top500  status  \n",
            "0              1.0000          0       0  \n",
            "1              4.7500          1       0  \n",
            "2              4.0000          1       0  \n",
            "3              3.3333          1       0  \n",
            "4              1.0000          1       1  \n",
            "..                ...        ...     ...  \n",
            "918            6.0000          1       0  \n",
            "919            2.6667          1       1  \n",
            "920            8.0000          1       1  \n",
            "921            1.0000          1       0  \n",
            "922            3.0000          1       0  \n",
            "\n",
            "[923 rows x 26 columns]\n"
          ]
        }
      ]
    },
    {
      "cell_type": "markdown",
      "source": [
        "#Feature Learning"
      ],
      "metadata": {
        "id": "uYElzpE3frMB"
      }
    },
    {
      "cell_type": "code",
      "source": [
        "#getting rid missing values - replaces NaN values with a constant\n",
        "imputer = SimpleImputer()\n",
        "df_imputed = imputer.fit_transform(df)\n",
        "\n",
        "# Standardize the data\n",
        "scaler = StandardScaler()\n",
        "df_scaled = scaler.fit_transform(df_imputed)\n",
        "\n",
        "# PCA\n",
        "pca = PCA()\n",
        "df_pca = pca.fit_transform(df_scaled)\n",
        "\n",
        "# Plot the explained variance\n",
        "plt.plot(pca.explained_variance_ratio_)\n",
        "plt.xlabel('Number of components')\n",
        "plt.ylabel('Explained variance')\n",
        "\n",
        "#based off the chart we can see that the optimized number of components is around 17 before the graph drops\n",
        "\n",
        "pca = PCA(n_components=17)\n",
        "df_pca = pca.fit_transform(df_scaled)\n",
        "\n",
        "\n",
        "X = df_pca\n",
        "y = df[['status']]\n"
      ],
      "metadata": {
        "id": "m0pP_s6Aohxz",
        "colab": {
          "base_uri": "https://localhost:8080/",
          "height": 279
        },
        "outputId": "a19a729d-a301-4615-b73c-2dfe21baa8a8"
      },
      "execution_count": null,
      "outputs": [
        {
          "output_type": "display_data",
          "data": {
            "text/plain": [
              "<Figure size 432x288 with 1 Axes>"
            ],
            "image/png": "[encoded data removed]"
          },
          "metadata": {
            "needs_background": "light"
          }
        }
      ]
    },
    {
      "cell_type": "markdown",
      "source": [
        "#Model 1: Conducting Logistic Regression"
      ],
      "metadata": {
        "id": "IQFeqipOfXsk"
      }
    },
    {
      "cell_type": "code",
      "source": [
        "\n",
        "# Split the data into training and test sets : 80% training 20% testing\n",
        "X_train, X_test, y_train, y_test = train_test_split(X, y, test_size=0.2, random_state=42)\n",
        "\n",
        "model = LogisticRegression()\n",
        "\n",
        "#perform Cross Validation using 10 folds\n",
        "logisticCV = cross_val_score(model, X_train, y_train, cv=10)\n",
        "\n",
        "# Train the model on the training data\n",
        "model.fit(X_train, y_train)\n",
        "\n",
        "logistic_pred = model.predict(X_test)\n",
        "\n",
        "print('Logisitic Regression Cross Validation Mean score:', logisticCV.mean())\n",
        "\n"
      ],
      "metadata": {
        "colab": {
          "base_uri": "https://localhost:8080/"
        },
        "id": "XW2qUMh5C5E0",
        "outputId": "ffe9aa59-2680-415e-d9cc-29f979556ad1"
      },
      "execution_count": null,
      "outputs": [
        {
          "output_type": "stream",
          "name": "stdout",
          "text": [
            "Logisitic Regression Cross Validation Mean score: 0.8523694927804517\n"
          ]
        },
        {
          "output_type": "stream",
          "name": "stderr",
          "text": [
            "/usr/local/lib/python3.8/dist-packages/sklearn/utils/validation.py:993: DataConversionWarning: A column-vector y was passed when a 1d array was expected. Please change the shape of y to (n_samples, ), for example using ravel().\n",
            "  y = column_or_1d(y, warn=True)\n",
            "/usr/local/lib/python3.8/dist-packages/sklearn/utils/validation.py:993: DataConversionWarning: A column-vector y was passed when a 1d array was expected. Please change the shape of y to (n_samples, ), for example using ravel().\n",
            "  y = column_or_1d(y, warn=True)\n",
            "/usr/local/lib/python3.8/dist-packages/sklearn/utils/validation.py:993: DataConversionWarning: A column-vector y was passed when a 1d array was expected. Please change the shape of y to (n_samples, ), for example using ravel().\n",
            "  y = column_or_1d(y, warn=True)\n",
            "/usr/local/lib/python3.8/dist-packages/sklearn/utils/validation.py:993: DataConversionWarning: A column-vector y was passed when a 1d array was expected. Please change the shape of y to (n_samples, ), for example using ravel().\n",
            "  y = column_or_1d(y, warn=True)\n",
            "/usr/local/lib/python3.8/dist-packages/sklearn/utils/validation.py:993: DataConversionWarning: A column-vector y was passed when a 1d array was expected. Please change the shape of y to (n_samples, ), for example using ravel().\n",
            "  y = column_or_1d(y, warn=True)\n",
            "/usr/local/lib/python3.8/dist-packages/sklearn/utils/validation.py:993: DataConversionWarning: A column-vector y was passed when a 1d array was expected. Please change the shape of y to (n_samples, ), for example using ravel().\n",
            "  y = column_or_1d(y, warn=True)\n",
            "/usr/local/lib/python3.8/dist-packages/sklearn/utils/validation.py:993: DataConversionWarning: A column-vector y was passed when a 1d array was expected. Please change the shape of y to (n_samples, ), for example using ravel().\n",
            "  y = column_or_1d(y, warn=True)\n",
            "/usr/local/lib/python3.8/dist-packages/sklearn/utils/validation.py:993: DataConversionWarning: A column-vector y was passed when a 1d array was expected. Please change the shape of y to (n_samples, ), for example using ravel().\n",
            "  y = column_or_1d(y, warn=True)\n",
            "/usr/local/lib/python3.8/dist-packages/sklearn/utils/validation.py:993: DataConversionWarning: A column-vector y was passed when a 1d array was expected. Please change the shape of y to (n_samples, ), for example using ravel().\n",
            "  y = column_or_1d(y, warn=True)\n",
            "/usr/local/lib/python3.8/dist-packages/sklearn/utils/validation.py:993: DataConversionWarning: A column-vector y was passed when a 1d array was expected. Please change the shape of y to (n_samples, ), for example using ravel().\n",
            "  y = column_or_1d(y, warn=True)\n",
            "/usr/local/lib/python3.8/dist-packages/sklearn/utils/validation.py:993: DataConversionWarning: A column-vector y was passed when a 1d array was expected. Please change the shape of y to (n_samples, ), for example using ravel().\n",
            "  y = column_or_1d(y, warn=True)\n"
          ]
        }
      ]
    },
    {
      "cell_type": "markdown",
      "source": [
        "#Model 2: Conducting SVM on the dataset"
      ],
      "metadata": {
        "id": "jPEJ0pyNfThY"
      }
    },
    {
      "cell_type": "code",
      "source": [
        "\n",
        "# create an SVM model with a linear kernel\n",
        "SVMmodel = SVC(kernel='linear')\n",
        "\n",
        "SVMCV = cross_val_score(SVMmodel, X_train, y_train, cv=10)\n",
        "\n",
        "# fit the model to the training data\n",
        "SVMmodel.fit(X_train, y_train)\n",
        "\n",
        "SVMpredict = SVMmodel.predict(X_test)\n",
        "# evaluate the model on the testing data\n",
        "\n",
        "print('SVM Cross Validation Mean score:', SVMCV.mean())\n"
      ],
      "metadata": {
        "id": "gSKKulrZBYks",
        "colab": {
          "base_uri": "https://localhost:8080/"
        },
        "outputId": "951e15c8-e754-4531-b334-a5cd0071836e"
      },
      "execution_count": null,
      "outputs": [
        {
          "output_type": "stream",
          "name": "stderr",
          "text": [
            "/usr/local/lib/python3.8/dist-packages/sklearn/utils/validation.py:993: DataConversionWarning: A column-vector y was passed when a 1d array was expected. Please change the shape of y to (n_samples, ), for example using ravel().\n",
            "  y = column_or_1d(y, warn=True)\n",
            "/usr/local/lib/python3.8/dist-packages/sklearn/utils/validation.py:993: DataConversionWarning: A column-vector y was passed when a 1d array was expected. Please change the shape of y to (n_samples, ), for example using ravel().\n",
            "  y = column_or_1d(y, warn=True)\n",
            "/usr/local/lib/python3.8/dist-packages/sklearn/utils/validation.py:993: DataConversionWarning: A column-vector y was passed when a 1d array was expected. Please change the shape of y to (n_samples, ), for example using ravel().\n",
            "  y = column_or_1d(y, warn=True)\n",
            "/usr/local/lib/python3.8/dist-packages/sklearn/utils/validation.py:993: DataConversionWarning: A column-vector y was passed when a 1d array was expected. Please change the shape of y to (n_samples, ), for example using ravel().\n",
            "  y = column_or_1d(y, warn=True)\n",
            "/usr/local/lib/python3.8/dist-packages/sklearn/utils/validation.py:993: DataConversionWarning: A column-vector y was passed when a 1d array was expected. Please change the shape of y to (n_samples, ), for example using ravel().\n",
            "  y = column_or_1d(y, warn=True)\n",
            "/usr/local/lib/python3.8/dist-packages/sklearn/utils/validation.py:993: DataConversionWarning: A column-vector y was passed when a 1d array was expected. Please change the shape of y to (n_samples, ), for example using ravel().\n",
            "  y = column_or_1d(y, warn=True)\n",
            "/usr/local/lib/python3.8/dist-packages/sklearn/utils/validation.py:993: DataConversionWarning: A column-vector y was passed when a 1d array was expected. Please change the shape of y to (n_samples, ), for example using ravel().\n",
            "  y = column_or_1d(y, warn=True)\n",
            "/usr/local/lib/python3.8/dist-packages/sklearn/utils/validation.py:993: DataConversionWarning: A column-vector y was passed when a 1d array was expected. Please change the shape of y to (n_samples, ), for example using ravel().\n",
            "  y = column_or_1d(y, warn=True)\n",
            "/usr/local/lib/python3.8/dist-packages/sklearn/utils/validation.py:993: DataConversionWarning: A column-vector y was passed when a 1d array was expected. Please change the shape of y to (n_samples, ), for example using ravel().\n",
            "  y = column_or_1d(y, warn=True)\n",
            "/usr/local/lib/python3.8/dist-packages/sklearn/utils/validation.py:993: DataConversionWarning: A column-vector y was passed when a 1d array was expected. Please change the shape of y to (n_samples, ), for example using ravel().\n",
            "  y = column_or_1d(y, warn=True)\n",
            "/usr/local/lib/python3.8/dist-packages/sklearn/utils/validation.py:993: DataConversionWarning: A column-vector y was passed when a 1d array was expected. Please change the shape of y to (n_samples, ), for example using ravel().\n",
            "  y = column_or_1d(y, warn=True)\n"
          ]
        },
        {
          "output_type": "stream",
          "name": "stdout",
          "text": [
            "SVM Cross Validation Mean score: 0.8564050351721585\n"
          ]
        }
      ]
    },
    {
      "cell_type": "markdown",
      "source": [
        "#Comparative Analysis\n",
        "Based off the comparative analysis we can see that the SVM model has a higher classification accuracy of 0.9 compare to the 0.88 of the logistic regression model. The SVM model also has a higher F1 score of 0.88 compared to the 0.86 F1 score of the logistic regression model. Lastly, the SVM model has a higher TP of 106 compared to 102 plus a lower TN rate of 6 compared to 10 of the logistic regression model. Given that the SVM model was comparitively better than the logistic regression model in three different analysis, we can conclude that the SVM model would be best to go with."
      ],
      "metadata": {
        "id": "6890fMFJfRBN"
      }
    },
    {
      "cell_type": "code",
      "source": [
        "\n",
        "SVMaccuracy = accuracy_score(y_test, SVMpredict)\n",
        "SVMf1 = f1_score(y_test, SVMpredict)\n",
        "logisticaccuracy = accuracy_score(y_test, logistic_pred)\n",
        "logisticF1 = f1_score(y_test, logistic_pred)\n",
        "\n",
        "confusion_matrix_logistic = confusion_matrix(y_test, logistic_pred)\n",
        "confusion_matrix_SVM = confusion_matrix(y_test, SVMpredict)\n",
        "\n",
        "# Print the results\n",
        "print('\\nSVM:')\n",
        "print('Classification accuracy:', SVMaccuracy )\n",
        "print('F1 score:', SVMf1)\n",
        "print('Confusion matrix SVM:')\n",
        "print(confusion_matrix_SVM)\n",
        "\n",
        "print('\\nLogistic Regression:')\n",
        "print('Classification accuracy:', logisticaccuracy )\n",
        "print('F1 score:', logisticF1)\n",
        "print('Confusion matrix Logistic:')\n",
        "print(confusion_matrix_logistic)"
      ],
      "metadata": {
        "id": "PVnRMpN7m1Im",
        "colab": {
          "base_uri": "https://localhost:8080/"
        },
        "outputId": "4fcdbbe5-98ec-4879-f0a8-1eb1c4961bd6"
      },
      "execution_count": null,
      "outputs": [
        {
          "output_type": "stream",
          "name": "stdout",
          "text": [
            "\n",
            "SVM:\n",
            "Classification accuracy: 0.9081081081081082\n",
            "F1 score: 0.8794326241134752\n",
            "Confusion matrix SVM:\n",
            "[[106   6]\n",
            " [ 11  62]]\n",
            "\n",
            "Logistic Regression:\n",
            "Classification accuracy: 0.8864864864864865\n",
            "F1 score: 0.8551724137931035\n",
            "Confusion matrix Logistic:\n",
            "[[102  10]\n",
            " [ 11  62]]\n"
          ]
        }
      ]
    },
    {
      "cell_type": "markdown",
      "source": [
        "#Discussion on ethical issues for each dataset/task\n",
        "\n",
        "There may be a bias that this model entails as there are a lot of other factors not included in this data set that could determine a startups success that cannot be quantified such as team background and experience. In addition this dataset is only contains data of startups in the US, so this cannot be representative of startups from the rest of the world. Given the model couldn't compare data from other regions, this model may not be accurate. Many Venture Capitalists may utilize a similar model to this to help decide which startups are worth investing in and this could be an ethical issue as such models can only help procide a direction and not determine a discrete output. This model may not be fair for venture capitalists to use as this could lead to certain startups more likely to recieve funding over other startups on a biased basis. \n",
        "\n",
        "Also, hypothetically if this model is widely distributed, this would only encourage entreprenuers to mold startup ideas that fit this machine learning model just so they can recieve funding, this could lead to a plateau in innovation.\n"
      ],
      "metadata": {
        "id": "tdL0tBCQfOJp"
      }
    },
    {
      "cell_type": "markdown",
      "source": [
        "#Bibliography\n",
        "Here I provide links I used to help me conduct the following machine learning tasks for this data set: \n",
        "\n",
        "[1] [Cross Validation](https://scikit-learn.org/stable/modules/cross_validation.html#:~:text=The%20simplest%20way%20to%20use,the%20estimator%20and%20the%20dataset.&text=%3E%3E%3E-,%3E%3E%3E%20from%20sklearn.,%3E%3E%3E%20clf%20%3D%20svm.)\n",
        "\n",
        "[2] [Logistic Regression](https://www.projectpro.io/recipes/perform-logistic-regression-sklearn)\n",
        "\n",
        "[3] [SVM](https://datagy.io/python-support-vector-machines/)\n",
        "\n"
      ],
      "metadata": {
        "id": "8WyZRqeNgm32"
      }
    }
  ]
}