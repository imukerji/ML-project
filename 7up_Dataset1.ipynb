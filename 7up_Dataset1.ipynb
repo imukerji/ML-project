{
  "nbformat": 4,
  "nbformat_minor": 0,
  "metadata": {
    "colab": {
      "provenance": []
    },
    "kernelspec": {
      "name": "python3",
      "display_name": "Python 3"
    },
    "language_info": {
      "name": "python"
    }
  },
  "cells": [
    {
      "cell_type": "markdown",
      "source": [
        "# Spotify data set\n",
        "https://www.kaggle.com/datasets/maharshipandya/-spotify-tracks-dataset\n",
        "\n",
        "a) This datast contains 20 features with the dependent variable being the genre of the music and there are 114000 samples. In the genre of music there are 114 unique genres of music. There are catigorical valiables such as explicit and mode that takes a binary value. Also there is time signaure that takes an integer from 1 to 5. "
      ],
      "metadata": {
        "id": "d6VNX5iTPnGO"
      }
    },
    {
      "cell_type": "code",
      "execution_count": 20,
      "metadata": {
        "id": "JLYTnYHjPkkT"
      },
      "outputs": [],
      "source": [
        "# import relevant Python libraries\n",
        "import numpy as np\n",
        "import pandas as pd\n",
        "from scipy import stats as sps\n",
        "from matplotlib import pyplot as plt\n",
        "from mpl_toolkits.mplot3d import Axes3D\n",
        "from IPython.display import display, Latex\n",
        "from scipy import stats as stat\n",
        "from sklearn import preprocessing as sklpp\n"
      ]
    },
    {
      "cell_type": "code",
      "source": [
        "df =pd.read_csv(\"Spotify_dataset.csv\")\n",
        "df.head()\n",
        "#df.shape"
      ],
      "metadata": {
        "colab": {
          "base_uri": "https://localhost:8080/",
          "height": 438
        },
        "id": "zV9-FFRlTPx5",
        "outputId": "83ab0097-d211-46dc-d8e4-5a3cff544756"
      },
      "execution_count": 21,
      "outputs": [
        {
          "output_type": "execute_result",
          "data": {
            "text/plain": [
              "   Unnamed: 0                track_id                 artists  \\\n",
              "0           0  5SuOikwiRyPMVoIQDJUgSV             Gen Hoshino   \n",
              "1           1  4qPNDBW1i3p13qLCt0Ki3A            Ben Woodward   \n",
              "2           2  1iJBSr7s7jYXzM8EGcbK5b  Ingrid Michaelson;ZAYN   \n",
              "3           3  6lfxq3CG4xtTiEg7opyCyx            Kina Grannis   \n",
              "4           4  5vjLSffimiIP26QG5WcN2K        Chord Overstreet   \n",
              "\n",
              "                                          album_name  \\\n",
              "0                                             Comedy   \n",
              "1                                   Ghost (Acoustic)   \n",
              "2                                     To Begin Again   \n",
              "3  Crazy Rich Asians (Original Motion Picture Sou...   \n",
              "4                                            Hold On   \n",
              "\n",
              "                   track_name  popularity  duration_ms  explicit  \\\n",
              "0                      Comedy          73       230666     False   \n",
              "1            Ghost - Acoustic          55       149610     False   \n",
              "2              To Begin Again          57       210826     False   \n",
              "3  Can't Help Falling In Love          71       201933     False   \n",
              "4                     Hold On          82       198853     False   \n",
              "\n",
              "   danceability  energy  ...  loudness  mode  speechiness  acousticness  \\\n",
              "0         0.676  0.4610  ...    -6.746     0       0.1430        0.0322   \n",
              "1         0.420  0.1660  ...   -17.235     1       0.0763        0.9240   \n",
              "2         0.438  0.3590  ...    -9.734     1       0.0557        0.2100   \n",
              "3         0.266  0.0596  ...   -18.515     1       0.0363        0.9050   \n",
              "4         0.618  0.4430  ...    -9.681     1       0.0526        0.4690   \n",
              "\n",
              "   instrumentalness  liveness  valence    tempo  time_signature  track_genre  \n",
              "0          0.000001    0.3580    0.715   87.917               4     acoustic  \n",
              "1          0.000006    0.1010    0.267   77.489               4     acoustic  \n",
              "2          0.000000    0.1170    0.120   76.332               4     acoustic  \n",
              "3          0.000071    0.1320    0.143  181.740               3     acoustic  \n",
              "4          0.000000    0.0829    0.167  119.949               4     acoustic  \n",
              "\n",
              "[5 rows x 21 columns]"
            ],
            "text/html": [
              "\n",
              "  <div id=\"df-c481663f-85e8-4fa4-98c6-bd5e2c7e20dc\">\n",
              "    <div class=\"colab-df-container\">\n",
              "      <div>\n",
              "<style scoped>\n",
              "    .dataframe tbody tr th:only-of-type {\n",
              "        vertical-align: middle;\n",
              "    }\n",
              "\n",
              "    .dataframe tbody tr th {\n",
              "        vertical-align: top;\n",
              "    }\n",
              "\n",
              "    .dataframe thead th {\n",
              "        text-align: right;\n",
              "    }\n",
              "</style>\n",
              "<table border=\"1\" class=\"dataframe\">\n",
              "  <thead>\n",
              "    <tr style=\"text-align: right;\">\n",
              "      <th></th>\n",
              "      <th>Unnamed: 0</th>\n",
              "      <th>track_id</th>\n",
              "      <th>artists</th>\n",
              "      <th>album_name</th>\n",
              "      <th>track_name</th>\n",
              "      <th>popularity</th>\n",
              "      <th>duration_ms</th>\n",
              "      <th>explicit</th>\n",
              "      <th>danceability</th>\n",
              "      <th>energy</th>\n",
              "      <th>...</th>\n",
              "      <th>loudness</th>\n",
              "      <th>mode</th>\n",
              "      <th>speechiness</th>\n",
              "      <th>acousticness</th>\n",
              "      <th>instrumentalness</th>\n",
              "      <th>liveness</th>\n",
              "      <th>valence</th>\n",
              "      <th>tempo</th>\n",
              "      <th>time_signature</th>\n",
              "      <th>track_genre</th>\n",
              "    </tr>\n",
              "  </thead>\n",
              "  <tbody>\n",
              "    <tr>\n",
              "      <th>0</th>\n",
              "      <td>0</td>\n",
              "      <td>5SuOikwiRyPMVoIQDJUgSV</td>\n",
              "      <td>Gen Hoshino</td>\n",
              "      <td>Comedy</td>\n",
              "      <td>Comedy</td>\n",
              "      <td>73</td>\n",
              "      <td>230666</td>\n",
              "      <td>False</td>\n",
              "      <td>0.676</td>\n",
              "      <td>0.4610</td>\n",
              "      <td>...</td>\n",
              "      <td>-6.746</td>\n",
              "      <td>0</td>\n",
              "      <td>0.1430</td>\n",
              "      <td>0.0322</td>\n",
              "      <td>0.000001</td>\n",
              "      <td>0.3580</td>\n",
              "      <td>0.715</td>\n",
              "      <td>87.917</td>\n",
              "      <td>4</td>\n",
              "      <td>acoustic</td>\n",
              "    </tr>\n",
              "    <tr>\n",
              "      <th>1</th>\n",
              "      <td>1</td>\n",
              "      <td>4qPNDBW1i3p13qLCt0Ki3A</td>\n",
              "      <td>Ben Woodward</td>\n",
              "      <td>Ghost (Acoustic)</td>\n",
              "      <td>Ghost - Acoustic</td>\n",
              "      <td>55</td>\n",
              "      <td>149610</td>\n",
              "      <td>False</td>\n",
              "      <td>0.420</td>\n",
              "      <td>0.1660</td>\n",
              "      <td>...</td>\n",
              "      <td>-17.235</td>\n",
              "      <td>1</td>\n",
              "      <td>0.0763</td>\n",
              "      <td>0.9240</td>\n",
              "      <td>0.000006</td>\n",
              "      <td>0.1010</td>\n",
              "      <td>0.267</td>\n",
              "      <td>77.489</td>\n",
              "      <td>4</td>\n",
              "      <td>acoustic</td>\n",
              "    </tr>\n",
              "    <tr>\n",
              "      <th>2</th>\n",
              "      <td>2</td>\n",
              "      <td>1iJBSr7s7jYXzM8EGcbK5b</td>\n",
              "      <td>Ingrid Michaelson;ZAYN</td>\n",
              "      <td>To Begin Again</td>\n",
              "      <td>To Begin Again</td>\n",
              "      <td>57</td>\n",
              "      <td>210826</td>\n",
              "      <td>False</td>\n",
              "      <td>0.438</td>\n",
              "      <td>0.3590</td>\n",
              "      <td>...</td>\n",
              "      <td>-9.734</td>\n",
              "      <td>1</td>\n",
              "      <td>0.0557</td>\n",
              "      <td>0.2100</td>\n",
              "      <td>0.000000</td>\n",
              "      <td>0.1170</td>\n",
              "      <td>0.120</td>\n",
              "      <td>76.332</td>\n",
              "      <td>4</td>\n",
              "      <td>acoustic</td>\n",
              "    </tr>\n",
              "    <tr>\n",
              "      <th>3</th>\n",
              "      <td>3</td>\n",
              "      <td>6lfxq3CG4xtTiEg7opyCyx</td>\n",
              "      <td>Kina Grannis</td>\n",
              "      <td>Crazy Rich Asians (Original Motion Picture Sou...</td>\n",
              "      <td>Can't Help Falling In Love</td>\n",
              "      <td>71</td>\n",
              "      <td>201933</td>\n",
              "      <td>False</td>\n",
              "      <td>0.266</td>\n",
              "      <td>0.0596</td>\n",
              "      <td>...</td>\n",
              "      <td>-18.515</td>\n",
              "      <td>1</td>\n",
              "      <td>0.0363</td>\n",
              "      <td>0.9050</td>\n",
              "      <td>0.000071</td>\n",
              "      <td>0.1320</td>\n",
              "      <td>0.143</td>\n",
              "      <td>181.740</td>\n",
              "      <td>3</td>\n",
              "      <td>acoustic</td>\n",
              "    </tr>\n",
              "    <tr>\n",
              "      <th>4</th>\n",
              "      <td>4</td>\n",
              "      <td>5vjLSffimiIP26QG5WcN2K</td>\n",
              "      <td>Chord Overstreet</td>\n",
              "      <td>Hold On</td>\n",
              "      <td>Hold On</td>\n",
              "      <td>82</td>\n",
              "      <td>198853</td>\n",
              "      <td>False</td>\n",
              "      <td>0.618</td>\n",
              "      <td>0.4430</td>\n",
              "      <td>...</td>\n",
              "      <td>-9.681</td>\n",
              "      <td>1</td>\n",
              "      <td>0.0526</td>\n",
              "      <td>0.4690</td>\n",
              "      <td>0.000000</td>\n",
              "      <td>0.0829</td>\n",
              "      <td>0.167</td>\n",
              "      <td>119.949</td>\n",
              "      <td>4</td>\n",
              "      <td>acoustic</td>\n",
              "    </tr>\n",
              "  </tbody>\n",
              "</table>\n",
              "<p>5 rows × 21 columns</p>\n",
              "</div>\n",
              "      <button class=\"colab-df-convert\" onclick=\"convertToInteractive('df-c481663f-85e8-4fa4-98c6-bd5e2c7e20dc')\"\n",
              "              title=\"Convert this dataframe to an interactive table.\"\n",
              "              style=\"display:none;\">\n",
              "        \n",
              "  <svg xmlns=\"http://www.w3.org/2000/svg\" height=\"24px\"viewBox=\"0 0 24 24\"\n",
              "       width=\"24px\">\n",
              "    <path d=\"M0 0h24v24H0V0z\" fill=\"none\"/>\n",
              "    <path d=\"M18.56 5.44l.94 2.06.94-2.06 2.06-.94-2.06-.94-.94-2.06-.94 2.06-2.06.94zm-11 1L8.5 8.5l.94-2.06 2.06-.94-2.06-.94L8.5 2.5l-.94 2.06-2.06.94zm10 10l.94 2.06.94-2.06 2.06-.94-2.06-.94-.94-2.06-.94 2.06-2.06.94z\"/><path d=\"M17.41 7.96l-1.37-1.37c-.4-.4-.92-.59-1.43-.59-.52 0-1.04.2-1.43.59L10.3 9.45l-7.72 7.72c-.78.78-.78 2.05 0 2.83L4 21.41c.39.39.9.59 1.41.59.51 0 1.02-.2 1.41-.59l7.78-7.78 2.81-2.81c.8-.78.8-2.07 0-2.86zM5.41 20L4 18.59l7.72-7.72 1.47 1.35L5.41 20z\"/>\n",
              "  </svg>\n",
              "      </button>\n",
              "      \n",
              "  <style>\n",
              "    .colab-df-container {\n",
              "      display:flex;\n",
              "      flex-wrap:wrap;\n",
              "      gap: 12px;\n",
              "    }\n",
              "\n",
              "    .colab-df-convert {\n",
              "      background-color: #E8F0FE;\n",
              "      border: none;\n",
              "      border-radius: 50%;\n",
              "      cursor: pointer;\n",
              "      display: none;\n",
              "      fill: #1967D2;\n",
              "      height: 32px;\n",
              "      padding: 0 0 0 0;\n",
              "      width: 32px;\n",
              "    }\n",
              "\n",
              "    .colab-df-convert:hover {\n",
              "      background-color: #E2EBFA;\n",
              "      box-shadow: 0px 1px 2px rgba(60, 64, 67, 0.3), 0px 1px 3px 1px rgba(60, 64, 67, 0.15);\n",
              "      fill: #174EA6;\n",
              "    }\n",
              "\n",
              "    [theme=dark] .colab-df-convert {\n",
              "      background-color: #3B4455;\n",
              "      fill: #D2E3FC;\n",
              "    }\n",
              "\n",
              "    [theme=dark] .colab-df-convert:hover {\n",
              "      background-color: #434B5C;\n",
              "      box-shadow: 0px 1px 3px 1px rgba(0, 0, 0, 0.15);\n",
              "      filter: drop-shadow(0px 1px 2px rgba(0, 0, 0, 0.3));\n",
              "      fill: #FFFFFF;\n",
              "    }\n",
              "  </style>\n",
              "\n",
              "      <script>\n",
              "        const buttonEl =\n",
              "          document.querySelector('#df-c481663f-85e8-4fa4-98c6-bd5e2c7e20dc button.colab-df-convert');\n",
              "        buttonEl.style.display =\n",
              "          google.colab.kernel.accessAllowed ? 'block' : 'none';\n",
              "\n",
              "        async function convertToInteractive(key) {\n",
              "          const element = document.querySelector('#df-c481663f-85e8-4fa4-98c6-bd5e2c7e20dc');\n",
              "          const dataTable =\n",
              "            await google.colab.kernel.invokeFunction('convertToInteractive',\n",
              "                                                     [key], {});\n",
              "          if (!dataTable) return;\n",
              "\n",
              "          const docLinkHtml = 'Like what you see? Visit the ' +\n",
              "            '<a target=\"_blank\" href=https://colab.research.google.com/notebooks/data_table.ipynb>data table notebook</a>'\n",
              "            + ' to learn more about interactive tables.';\n",
              "          element.innerHTML = '';\n",
              "          dataTable['output_type'] = 'display_data';\n",
              "          await google.colab.output.renderOutput(dataTable, element);\n",
              "          const docLink = document.createElement('div');\n",
              "          docLink.innerHTML = docLinkHtml;\n",
              "          element.appendChild(docLink);\n",
              "        }\n",
              "      </script>\n",
              "    </div>\n",
              "  </div>\n",
              "  "
            ]
          },
          "metadata": {},
          "execution_count": 21
        }
      ]
    },
    {
      "cell_type": "markdown",
      "source": [
        "# Pre-processing\n",
        "step 1: get rid of any unwanted commlums in our case we got rid of track_id, artists, album_name, track_name, and Unnamed: 0. The reason we did this becuase these are string values that we can not use to predict the genre. We also chose to get rid of mode, time_signature and explicit since thses are not important to find genre.\n",
        "\n",
        "step 2: instead of trying to distinguish between 114 genres we decided to trim the data set and only diferentiate between 5: acoustic, dance,k-pop, metal, and r-n-b. So we got rid of the rest of the data samples\n",
        "\n",
        "step 3: Now that we have the samples of data we want we need to make sure that they can work with LDA and KNN inorder to do this we needed to label encode the genres of music using sklearn's preprocessing function. After this the data is ready to be used.\n",
        "\n",
        "Feature extraction is not required for this data set since we are only appling LDA and KNN to it. Also we have already reduced the amount of features down to 13."
      ],
      "metadata": {
        "id": "MJNljpfejNgY"
      }
    },
    {
      "cell_type": "code",
      "source": [
        "#Pre-processing\n",
        "from sklearn import preprocessing\n",
        "df =pd.read_csv(\"Spotify_dataset.csv\")\n",
        "\n",
        "df.drop(columns='track_id', inplace=True) # thses are the collums that we will not use for our data\n",
        "df.drop(columns='artists', inplace=True)\n",
        "df.drop(columns='album_name', inplace=True)\n",
        "df.drop(columns='track_name', inplace=True)\n",
        "df.drop(columns='Unnamed: 0', inplace=True)\n",
        "df.drop(columns='mode', inplace=True)\n",
        "df.drop(columns='time_signature', inplace=True)\n",
        "df.drop(columns='explicit', inplace=True)\n",
        "\n",
        "\n",
        "df = df[~(df[\"track_genre\"].str.contains(\"acoustic|dance|k-pop|metal|r-n-b\")) == False] # this removes all other track genres that we are not looking for \n",
        "df.drop(df.loc[df['track_genre'] == 'black-metal'].index, inplace=True)\n",
        "df.drop(df.loc[df['track_genre'] == 'dancehall'].index, inplace=True)\n",
        "df.drop(df.loc[df['track_genre'] == 'death-metal'].index, inplace=True)\n",
        "df.drop(df.loc[df['track_genre'] == 'heavy-metal'].index, inplace=True)\n",
        "df.drop(df.loc[df['track_genre'] == 'j-dance'].index, inplace=True)\n",
        "df.drop(df.loc[df['track_genre'] == 'metalcore'].index, inplace=True)\n",
        "\n",
        "label_encoder = preprocessing.LabelEncoder()\n",
        "df['track_genre']= label_encoder.fit_transform(df['track_genre']) #these are the unique genres of music in Labeled encoding \n",
        "\n",
        "\n",
        "\n"
      ],
      "metadata": {
        "id": "cCDZdVDZTun0"
      },
      "execution_count": 23,
      "outputs": []
    },
    {
      "cell_type": "markdown",
      "source": [
        "# Splitting the data\n",
        "Here we are using the sklearn method train_test_split in order to split our data to get our test and training data."
      ],
      "metadata": {
        "id": "qkYN39S_mdtI"
      }
    },
    {
      "cell_type": "code",
      "source": [
        "from sklearn.model_selection import train_test_split\n",
        "# Split the data into training, validation, and test sets\n",
        "train_data, val_and_test_data = train_test_split(df, test_size=0.3)\n",
        "\n",
        "# Split the validation and test sets further\n",
        "val_data, test_data = train_test_split(val_and_test_data, test_size=0.5)\n",
        "\n",
        "print(train_data.shape)  \n",
        "print(val_data.shape)    \n",
        "print(test_data.shape)  \n"
      ],
      "metadata": {
        "colab": {
          "base_uri": "https://localhost:8080/"
        },
        "id": "PLERFOreV3v7",
        "outputId": "bec1da72-6d5b-4a7a-fa8c-3c37dd4e7166"
      },
      "execution_count": 24,
      "outputs": [
        {
          "output_type": "stream",
          "name": "stdout",
          "text": [
            "(3500, 13)\n",
            "(750, 13)\n",
            "(750, 13)\n"
          ]
        }
      ]
    },
    {
      "cell_type": "markdown",
      "source": [
        "#Model 1: LDA\n",
        "Now finally we can use our machine learning method LDA. Here we are using sklearns LinearDiscriminantAnalysis to fit the model and predict the test data, as well as the confusion_matrix method to graph the confusion_matrix. Here we also do the Cross validation over 10 splits and get 0.6217."
      ],
      "metadata": {
        "id": "_Qb9hNUqm-Fk"
      }
    },
    {
      "cell_type": "code",
      "source": [
        "from sklearn.discriminant_analysis import LinearDiscriminantAnalysis \n",
        "from sklearn.model_selection import RepeatedStratifiedKFold\n",
        "from sklearn.model_selection import cross_val_score\n",
        "from sklearn.metrics import confusion_matrix\n",
        "import seaborn as sns\n",
        "\n",
        "# Training data\n",
        "X = train_data[['popularity','duration_ms','danceability','energy','key','loudness','speechiness','acousticness','instrumentalness','liveness','valence','tempo']]\n",
        "y = train_data['track_genre']\n",
        "# Test data\n",
        "X_test = test_data[['popularity','duration_ms','danceability','energy','key','loudness','speechiness','acousticness','instrumentalness','liveness','valence','tempo']]\n",
        "\n",
        "#Fit the LDA model\n",
        "model = LinearDiscriminantAnalysis()\n",
        "model.fit(X, y)\n",
        "\n",
        "#Define method for CV\n",
        "cv = RepeatedStratifiedKFold(n_splits=10, n_repeats=1, random_state=1)\n",
        "\n",
        "#evaluate CV and get mean score\n",
        "scores = cross_val_score(model, X, y, scoring='accuracy', cv=cv, n_jobs=-1)\n",
        "print('cross validation: ', np.mean(scores))   \n",
        "\n",
        "#predict which class the new observation belongs to\n",
        "predictions_lda = model.predict(X_test)\n",
        "actual_val = np.array(test_data.loc[:,\"track_genre\"])\n",
        "\n",
        "# Graphing the confusion matrix\n",
        "ax= plt.subplot()\n",
        "conf_mat = confusion_matrix(actual_val, predictions_lda)\n",
        "sns.heatmap(conf_mat, square=True, annot=True, cmap='Blues', fmt='d', cbar=False,ax=ax)\n",
        "\n",
        "ax.set_xlabel('Predicted labels');ax.set_ylabel('True labels'); \n",
        "ax.set_title('Confusion Matrix LDA'); \n",
        "ax.xaxis.set_ticklabels(['acoustic', 'dance','k-pop','metal','r-n-b']); ax.yaxis.set_ticklabels(['acoustic', 'dance','k-pop','metal','r-n-b']);\n"
      ],
      "metadata": {
        "colab": {
          "base_uri": "https://localhost:8080/",
          "height": 312
        },
        "id": "Mj0b1qRxPqcQ",
        "outputId": "a513eef7-8196-40e1-dfb0-0d642836ef63"
      },
      "execution_count": 25,
      "outputs": [
        {
          "output_type": "stream",
          "name": "stdout",
          "text": [
            "cross validation:  0.6202857142857143\n"
          ]
        },
        {
          "output_type": "display_data",
          "data": {
            "text/plain": [
              "<Figure size 432x288 with 1 Axes>"
            ],
            "image/png": "[encoded data removed]"
          },
          "metadata": {
            "needs_background": "light"
          }
        }
      ]
    },
    {
      "cell_type": "markdown",
      "source": [
        "#Model 2: KNN\n",
        "Here we use sklearn's KNeighborsClassifier to fit the training data as well as predict the test data. Once again we also use the confusion_matrix method to graph the confusion_matrix."
      ],
      "metadata": {
        "id": "coLRKCqInhFX"
      }
    },
    {
      "cell_type": "code",
      "source": [
        "from sklearn.neighbors import KNeighborsClassifier\n",
        "from sklearn.metrics import confusion_matrix\n",
        "import seaborn as sns\n",
        "\n",
        "#training data\n",
        "X = train_data[['popularity','duration_ms','danceability','energy','key','loudness','speechiness','acousticness','instrumentalness','liveness','valence','tempo']]\n",
        "y = train_data['track_genre']\n",
        "# Testing data\n",
        "X_test = test_data[['popularity','duration_ms','danceability','energy','key','loudness','speechiness','acousticness','instrumentalness','liveness','valence','tempo']]\n",
        "\n",
        "#defining KNN\n",
        "knn = KNeighborsClassifier(n_neighbors = 5)\n",
        "#fittting the data\n",
        "knn.fit(X, y)\n",
        "  \n",
        "# Predict on dataset which model has not seen before X_test\n",
        "predictions_knn = knn.predict(X_test)\n",
        "\n",
        "# Graphing the confusion matrix\n",
        "ax= plt.subplot()\n",
        "conf_mat = confusion_matrix(actual_val, predictions_knn)\n",
        "sns.heatmap(conf_mat, square=True, annot=True, cmap='Blues', fmt='d', cbar=False,ax=ax)\n",
        "\n",
        "ax.set_xlabel('Predicted labels');ax.set_ylabel('True labels'); \n",
        "ax.set_title('Confusion Matrix KNN'); \n",
        "ax.xaxis.set_ticklabels(['acoustic', 'dance','k-pop','metal','r-n-b']); ax.yaxis.set_ticklabels(['acoustic', 'dance','k-pop','metal','r-n-b']);\n"
      ],
      "metadata": {
        "colab": {
          "base_uri": "https://localhost:8080/",
          "height": 295
        },
        "id": "t5dpY35NbTV4",
        "outputId": "c186fe54-be06-4ee5-9cbd-0609aca9178a"
      },
      "execution_count": 26,
      "outputs": [
        {
          "output_type": "display_data",
          "data": {
            "text/plain": [
              "<Figure size 432x288 with 1 Axes>"
            ],
            "image/png": "[encoded data removed]"
          },
          "metadata": {
            "needs_background": "light"
          }
        }
      ]
    },
    {
      "cell_type": "markdown",
      "source": [
        "#Comparative analysis\n",
        "As can be see by the confusion matrix lda is better at predicting the genres of music more than KNN. This is because in the lda confusion matrix you can see that the diagonal line is much more prominent. The KNN confusion matrix is only able to predict dance reliably the other genres of music it is not able to predecit well. Because of this I would use lda over knn for predicting genres of music."
      ],
      "metadata": {
        "id": "OuDPuNadYkLb"
      }
    },
    {
      "cell_type": "markdown",
      "source": [
        "#Ethical Issues\n",
        "This machine model has some slight ethical concerns when prdeicting the genres of music. Even though majority of the time the song is predicted correctly there are still times that the genre is wrongly classified. bias, as machine learning systems can perpetuate and amplify existing biases in the data they are trained on. This could lead to unfair or inaccurate predictions that disproportionately harm certain groups of musicians or music listeners. Because of this anyone who uses this machine learning model need to know that the prediction is not always correct."
      ],
      "metadata": {
        "id": "uOWOi6MxZL6m"
      }
    },
    {
      "cell_type": "markdown",
      "source": [
        "# Bibliography\n",
        "[1] [LDA](https://www.statology.org/linear-discriminant-analysis-in-python/)\n",
        "\n",
        "[2] [KNN](https://realpython.com/knn-python/)\n",
        "\n",
        "[3][Confussion matrix](https://www.w3schools.com/python/python_ml_confusion_matrix.asp#:~:text=What%20is%20a%20confusion%20matrix,the%20predictions%20we%20have%20made.)\n"
      ],
      "metadata": {
        "id": "WPxZPSHgZVO_"
      }
    }
  ]
}